{
 "cells": [
  {
   "cell_type": "code",
   "execution_count": null,
   "id": "7a828aeb",
   "metadata": {},
   "outputs": [],
   "source": []
  },
  {
   "cell_type": "code",
   "execution_count": null,
   "id": "9cd92176",
   "metadata": {},
   "outputs": [],
   "source": [
    "numerical_heads = fifa.select_dtypes(include=['number']).columns.tolist()\n",
    "print(numerical_heads)\n",
    "\n",
    "categorial_heads = fifa.select_dtypes(include=['object']).columns.tolist()\n",
    "print(categorial_heads)\n",
    "\n",
    "with pd.option_context('display.max_rows', None, 'display.max_columns', None):\n",
    "    print(fifa.dtypes)\n",
    "#Shows all data type columns, regardeless how many columns the dataset has. \n",
    "\n",
    "fifa1.select_dtypes(include=object)"
   ]
  },
  {
   "cell_type": "code",
   "execution_count": null,
   "id": "670f8420",
   "metadata": {},
   "outputs": [],
   "source": []
  }
 ],
 "metadata": {
  "kernelspec": {
   "display_name": "Python 3 (ipykernel)",
   "language": "python",
   "name": "python3"
  },
  "language_info": {
   "codemirror_mode": {
    "name": "ipython",
    "version": 3
   },
   "file_extension": ".py",
   "mimetype": "text/x-python",
   "name": "python",
   "nbconvert_exporter": "python",
   "pygments_lexer": "ipython3",
   "version": "3.10.9"
  }
 },
 "nbformat": 4,
 "nbformat_minor": 5
}
